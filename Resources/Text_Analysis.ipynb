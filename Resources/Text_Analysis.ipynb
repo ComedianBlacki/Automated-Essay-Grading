{
 "cells": [
  {
   "cell_type": "markdown",
   "metadata": {},
   "source": [
    "# Text Analysis \n",
    "# CS 109A/AC 209A/STAT 121A Data Science: Lab 5\n",
    "**Harvard University**<br>\n",
    "**Fall 2016**<br>\n",
    "**Instructors: W. Pan, P. Protopapas, K. Rader**<br>"
   ]
  },
  {
   "cell_type": "code",
   "execution_count": 35,
   "metadata": {
    "collapsed": true
   },
   "outputs": [],
   "source": [
    "import pandas as pd\n",
    "from sklearn.feature_extraction.text import CountVectorizer\n",
    "from sklearn.neighbors import KNeighborsClassifier as KNN"
   ]
  },
  {
   "cell_type": "markdown",
   "metadata": {},
   "source": [
    "## How to Process Textual Data\n",
    "\n",
    "This exercise is designed to help you transform and model textual data. You may find the tutorial [here](http://scikit-learn.org/stable/modules/feature_extraction.html) helpful.\n",
    "\n",
    "Your goal is to vectorize a small set of twitter data and predict the polarity (a property of the content of tweet) of tweets using KNN.\n",
    "\n",
    "1. Load `tweet.csv`, this is a data set containing tweets and their polarity.\n",
    "\n",
    "2. Using `CountVectorizer`, turn each tweet into a vector of features. Play with the values for `min_df`, `max_df` and `stop_words`.\n",
    "\n",
    "3. Get the names of the features you produced, using `get_feature_names`.\n",
    "\n",
    "3. Split the data set into train and test (make sure there are both types of polarity present in train)\n",
    "\n",
    "4. Use KNN to predict the polarity of the test tweets. How good is your model? What is the effect of your choice of `min_df`, `max_df` and `stop_words` on your model?"
   ]
  }
 ],
 "metadata": {
  "kernelspec": {
   "display_name": "Python 2",
   "language": "python",
   "name": "python2"
  },
  "language_info": {
   "codemirror_mode": {
    "name": "ipython",
    "version": 2
   },
   "file_extension": ".py",
   "mimetype": "text/x-python",
   "name": "python",
   "nbconvert_exporter": "python",
   "pygments_lexer": "ipython2",
   "version": "2.7.11"
  }
 },
 "nbformat": 4,
 "nbformat_minor": 0
}
