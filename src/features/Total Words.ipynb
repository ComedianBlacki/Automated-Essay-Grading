{
 "cells": [
  {
   "cell_type": "code",
   "execution_count": null,
   "metadata": {
    "collapsed": true
   },
   "outputs": [],
   "source": [
    "#####################################################\n",
    "#COUNTING THE NUMBER OF TOTAL WORDS#\n",
    "#####################################################\n",
    "\n",
    "def fill_total_words_column(train_df, valid_df):\n",
    "    #Total number of words\n",
    "    total_number_train = []\n",
    "    total_number_valid = []\n",
    "    \n",
    "    for i in range(len(train_df)):\n",
    "        splits = train_df.iloc[i][\"essay\"].split()\n",
    "        total_words = len(splits)\n",
    "        total_number_train.append(total_words)\n",
    "        \n",
    "    for i in range(len(valid_df)):\n",
    "        splits = valid_df.iloc[i][\"essay\"].split()\n",
    "        total_words = len(splits)\n",
    "        total_number_valid.append(total_words)\n",
    "        \n",
    "    train_df[\"total_words\"] = total_number_train\n",
    "    valid_df[\"total_words\"] = total_number_valid\n",
    "    \n",
    "    train_df, valid_df = util.append_standardized_column(train_df, valid_df, 'word_count')\n",
    "\n",
    "    return train_df, valid_df"
   ]
  }
 ],
 "metadata": {
  "kernelspec": {
   "display_name": "Python [Root]",
   "language": "python",
   "name": "Python [Root]"
  },
  "language_info": {
   "codemirror_mode": {
    "name": "ipython",
    "version": 2
   },
   "file_extension": ".py",
   "mimetype": "text/x-python",
   "name": "python",
   "nbconvert_exporter": "python",
   "pygments_lexer": "ipython2",
   "version": "2.7.12"
  }
 },
 "nbformat": 4,
 "nbformat_minor": 0
}
