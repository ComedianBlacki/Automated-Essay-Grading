{
 "cells": [
  {
   "cell_type": "markdown",
   "metadata": {},
   "source": [
    "**AUTOMATED ESSAY SCORING: CS109A FINAL PROJECT**\n",
    "\n",
    "By Anmol Gupta, Annie Hwang, Paul Lisker, and Kevin Loughlin"
   ]
  },
  {
   "cell_type": "markdown",
   "metadata": {},
   "source": [
    "**THINGS TO CONSIDER**\n",
    "\n",
    "- See README.md for basic guides to what's in the repository\n",
    "- The training essays are scored on different scales.  Perhaps the scoring system for our model should be an input, or perhaps we should have different models for different scoring systems.\n",
    "- We should establish how to handle anonymized data (like how they replaced business names with @ORGANIZATION1)"
   ]
  },
  {
   "cell_type": "code",
   "execution_count": 33,
   "metadata": {
    "collapsed": true
   },
   "outputs": [],
   "source": [
    "import matplotlib\n",
    "import matplotlib.pyplot as plt\n",
    "\n",
    "import pandas as pd\n",
    "import numpy as np\n",
    "\n",
    "# stopwords for English\n",
    "from nltk.corpus import stopwords\n",
    "\n",
    "# English 'dictionary'\n",
    "from nltk.corpus import words\n",
    "\n",
    "# Regular expressions might be useful\n",
    "import re\n",
    "\n",
    "# Beautiful soup might be useful\n",
    "from bs4 import BeautifulSoup\n",
    "\n",
    "from sklearn.feature_extraction.text import CountVectorizer"
   ]
  },
  {
   "cell_type": "code",
   "execution_count": 34,
   "metadata": {
    "collapsed": false
   },
   "outputs": [
    {
     "name": "stdout",
     "output_type": "stream",
     "text": [
      "   essay_id  essay_set                                              essay  \\\n",
      "0         1          1  Dear local newspaper, I think effects computer...   \n",
      "1         2          1  Dear @CAPS1 @CAPS2, I believe that using compu...   \n",
      "2         3          1  Dear, @CAPS1 @CAPS2 @CAPS3 More and more peopl...   \n",
      "3         4          1  Dear Local Newspaper, @CAPS1 I have found that...   \n",
      "4         5          1  Dear @LOCATION1, I know having computers has a...   \n",
      "\n",
      "   rater1_domain1  rater2_domain1  rater3_domain1  domain1_score  \\\n",
      "0               4               4             NaN              8   \n",
      "1               5               4             NaN              9   \n",
      "2               4               3             NaN              7   \n",
      "3               5               5             NaN             10   \n",
      "4               4               4             NaN              8   \n",
      "\n",
      "   rater1_domain2  rater2_domain2  domain2_score      ...        \\\n",
      "0             NaN             NaN            NaN      ...         \n",
      "1             NaN             NaN            NaN      ...         \n",
      "2             NaN             NaN            NaN      ...         \n",
      "3             NaN             NaN            NaN      ...         \n",
      "4             NaN             NaN            NaN      ...         \n",
      "\n",
      "   rater2_trait3  rater2_trait4  rater2_trait5  rater2_trait6  rater3_trait1  \\\n",
      "0            NaN            NaN            NaN            NaN            NaN   \n",
      "1            NaN            NaN            NaN            NaN            NaN   \n",
      "2            NaN            NaN            NaN            NaN            NaN   \n",
      "3            NaN            NaN            NaN            NaN            NaN   \n",
      "4            NaN            NaN            NaN            NaN            NaN   \n",
      "\n",
      "   rater3_trait2  rater3_trait3  rater3_trait4  rater3_trait5  rater3_trait6  \n",
      "0            NaN            NaN            NaN            NaN            NaN  \n",
      "1            NaN            NaN            NaN            NaN            NaN  \n",
      "2            NaN            NaN            NaN            NaN            NaN  \n",
      "3            NaN            NaN            NaN            NaN            NaN  \n",
      "4            NaN            NaN            NaN            NaN            NaN  \n",
      "\n",
      "[5 rows x 28 columns]\n",
      "\n",
      "*****\n",
      "\n",
      "(12976,)\n"
     ]
    }
   ],
   "source": [
    "train_df = pd.read_csv('data/training_set_rel3.tsv', delimiter='\\t')\n",
    "print train_df.head()\n",
    "\n",
    "print '\\n*****\\n'\n",
    "\n",
    "train_essays_np = train_df['essay'].values\n",
    "print train_essays_np.shape"
   ]
  },
  {
   "cell_type": "code",
   "execution_count": 35,
   "metadata": {
    "collapsed": false
   },
   "outputs": [
    {
     "name": "stdout",
     "output_type": "stream",
     "text": [
      "   essay_id  essay_set                                              essay  \\\n",
      "0      2383          1  I believe that computers have a positive effec...   \n",
      "1      2384          1  Dear @CAPS1, I know some problems have came up...   \n",
      "2      2385          1  Dear to whom it @MONTH1 concern, Computers are...   \n",
      "3      2386          1  Dear @CAPS1 @CAPS2, @CAPS3 has come to my atte...   \n",
      "4      2387          1  Dear Local newspaper, I think that people have...   \n",
      "\n",
      "   domain1_predictionid  domain2_predictionid  \n",
      "0                  2383                   NaN  \n",
      "1                  2384                   NaN  \n",
      "2                  2385                   NaN  \n",
      "3                  2386                   NaN  \n",
      "4                  2387                   NaN  \n",
      "\n",
      "*****\n",
      "\n",
      "(4254,)\n"
     ]
    }
   ],
   "source": [
    "test_df = pd.read_csv('data/test_set.tsv', delimiter='\\t')\n",
    "print test_df.head()\n",
    "\n",
    "print '\\n*****\\n'\n",
    "\n",
    "test_essays_np = test_df['essay'].values\n",
    "print test_essays_np.shape"
   ]
  },
  {
   "cell_type": "code",
   "execution_count": 36,
   "metadata": {
    "collapsed": false
   },
   "outputs": [
    {
     "name": "stdout",
     "output_type": "stream",
     "text": [
      "   essay_id  essay_set                                              essay  \\\n",
      "0      1788          1  Dear @ORGANIZATION1, @CAPS1 more and more peop...   \n",
      "1      1789          1  Dear @LOCATION1 Time @CAPS1 me tell you what I...   \n",
      "2      1790          1  Dear Local newspaper, Have you been spending a...   \n",
      "3      1791          1  Dear Readers, @CAPS1 you imagine how life woul...   \n",
      "4      1792          1  Dear newspaper, I strongly believe that comput...   \n",
      "\n",
      "   domain1_predictionid  domain2_predictionid  \n",
      "0                  1788                   NaN  \n",
      "1                  1789                   NaN  \n",
      "2                  1790                   NaN  \n",
      "3                  1791                   NaN  \n",
      "4                  1792                   NaN  \n",
      "\n",
      "*****\n",
      "\n",
      "(4218,)\n"
     ]
    }
   ],
   "source": [
    "valid_df = pd.read_csv('data/valid_set.tsv', delimiter='\\t')\n",
    "print valid_df.head()\n",
    "\n",
    "print '\\n*****\\n'\n",
    "\n",
    "valid_essays_np = valid_df['essay'].values\n",
    "print valid_essays_np.shape"
   ]
  },
  {
   "cell_type": "code",
   "execution_count": 39,
   "metadata": {
    "collapsed": true
   },
   "outputs": [],
   "source": [
    "# Make english words and stoplist a set for efficiency\n",
    "nltk_words_set = set(words.words())\n",
    "stop_words = set(stopwords.words(\"english\"))\n",
    "\n",
    "# Extracts words from text, alpha characters only and all lowercase\n",
    "# Inspired by function included in Kevin's CS51 final project, adapted from Kaggle's Popcorn Movie Reviews Project\n",
    "# Used in Kevin's assignment 5\n",
    "def clean_essay(text):\n",
    "    # Only includes letters\n",
    "    str_only_letters = re.sub(\"[^a-zA-Z]\", \" \", text)\n",
    "\n",
    "    # Converts all letters to lower case and splits string into words\n",
    "    words = str_only_letters.lower().split()\n",
    "    \n",
    "    # TODO If we want to remove stop words, we can before the below\n",
    "    #words = [w for w in words if not w in stop_words]\n",
    "\n",
    "    # TODO If we want to check what is actually a word, we can do the below\n",
    "    # words = [w for w in words if w in nltk_words_set]\n",
    "\n",
    "    # Return words as string separated by space\n",
    "    return (\" \".join( words ))"
   ]
  },
  {
   "cell_type": "code",
   "execution_count": 40,
   "metadata": {
    "collapsed": false
   },
   "outputs": [
    {
     "name": "stdout",
     "output_type": "stream",
     "text": [
      "Cleaning training essays...\n",
      "Cleaning testing essays...\n",
      "Cleaning validation essays...\n",
      "Done.\n",
      "(12976,)\n",
      "[ 'dear local newspaper i think effects computers have on people are great learning skills affects because they give us time to chat with friends new people helps us learn about the globe astronomy and keeps us out of troble thing about dont you think so how would you feel if your teenager is always on the phone with friends do you ever time to chat with your friends or buisness partner about things well now there s a new way to chat the computer theirs plenty of sites on the internet to do so organization organization caps facebook myspace ect just think now while your setting up meeting with your boss on the computer your teenager is having fun on the phone not rushing to get off cause you want to use it how did you learn about other countrys states outside of yours well i have by computer internet it s a new way to learn about what going on in our time you might think your child spends a lot of time on the computer but ask them so question about the economy sea floor spreading or even about the date s you ll be surprise at how much he she knows believe it or not the computer is much interesting then in class all day reading out of books if your child is home on your computer or at a local library it s better than being out with friends being fresh or being perpressured to doing something they know isnt right you might not know where your child is caps forbidde in a hospital bed because of a drive by rather than your child on the computer learning chatting or just playing games safe and sound in your home or community place now i hope you have reached a point to understand and agree with me because computers can have great effects on you or child because it gives us time to chat with friends new people helps us learn about the globe and believe or not keeps us out of troble thank you for listening'\n",
      " 'dear caps caps i believe that using computers will benefit us in many ways like talking and becoming friends will others through websites like facebook and mysace using computers can help us find coordibates locations and able ourselfs to millions of information also computers will benefit us by helping with jobs as in planning a house plan and typing a num page report for one of our jobs in less than writing it now lets go into the wonder world of technology using a computer will help us in life by talking or making friends on line many people have myspace facebooks aim these all benefit us by having conversations with one another many people believe computers are bad but how can you make friends if you can never talk to them i am very fortunate for having a computer that can help with not only school work but my social life and how i make friends computers help us with finding our locations coordibates and millions of information online if we didn t go on the internet a lot we wouldn t know how to go onto websites that month help us with locations and coordinates like location would you rather use a computer or be in location when your supposed to be vacationing in location million of information is found on the internet you can as almost every question and a computer will have it would you rather easily draw up a house plan on the computers or take num hours doing one by hand with ugly erazer marks all over it you are garrenteed that to find a job with a drawing like that also when appling for a job many workers must write very long papers like a num word essay on why this job fits you the most and many people i know don t like writing num words non stopp for hours when it could take them i hav an a computer that is why computers we needed a lot now adays i hope this essay has impacted your descion on computers because they are great machines to work with the other day i showed my mom how to use a computer and she said it was the greatest invention sense sliced bread now go out and buy a computer to help you chat online with friends find locations and millions of information on one click of the button and help your self with getting a job with neat prepared printed work that your boss will love'\n",
      " 'dear caps caps caps more and more people use computers but not everyone agrees that this benefits society those who support advances in technology believe that computers have a positive effect on people others have different ideas a great amount in the world today are using computers some for work and spme for the fun of it computers is one of mans greatest accomplishments computers are helpful in so many ways caps news and live streams don t get me wrong way to much people spend time on the computer and they should be out interacting with others but who are we to tell them what to do when i grow up i want to be a author or a journalist and i know for a fact that both of those jobs involve lots of time on time on the computer one month spend more time then the other but you know exactly what caps getting at so what if some expert think people are spending to much time on the computer and not exercising enjoying natures and interacting with family and friends for all the expert knows that its how must people make a living and we don t know why people choose to use the computer for a great amount of time and to be honest it s non of my concern and it shouldn t be the so called experts concern people interact a thousand times a day on the computers computers keep lots of kids of the streets instead of being out and causing trouble computers helps the organization locate most wanted criminals as you can see computers are more useful to society then you think computers benefit society']\n"
     ]
    }
   ],
   "source": [
    "print \"Cleaning training essays...\"\n",
    "\n",
    "cleaned = []\n",
    "for essay in train_essays_np:\n",
    "    cleaned.append(clean_essay(essay))\n",
    "train_clean = np.array(cleaned)\n",
    "\n",
    "print \"Cleaning testing essays...\"\n",
    "\n",
    "cleaned = []\n",
    "for essay in test_essays_np:\n",
    "    cleaned.append(clean_essay(essay))\n",
    "test_clean = np.array(cleaned)\n",
    "\n",
    "print \"Cleaning validation essays...\"\n",
    "\n",
    "cleaned = []\n",
    "for essay in valid_essays_np:\n",
    "    cleaned.append(clean_essay(essay))\n",
    "valid_clean = np.array(cleaned)\n",
    "\n",
    "print \"Done.\"\n",
    "\n",
    "print train_clean.shape\n",
    "print train_clean[:3]"
   ]
  },
  {
   "cell_type": "code",
   "execution_count": 44,
   "metadata": {
    "collapsed": false
   },
   "outputs": [
    {
     "name": "stdout",
     "output_type": "stream",
     "text": [
      "(12976, 37678)\n",
      "(4254, 37678)\n",
      "(4218, 37678)\n"
     ]
    }
   ],
   "source": [
    "# If we want to limit to the most common words in our vectorizer, set this number\n",
    "# Doing so will speed things up (and potentially increase accuracy)\n",
    "# None indicates no limit\n",
    "max_words = None\n",
    "\n",
    "# turns words into word vector\n",
    "vectorizer = CountVectorizer(stop_words='english', max_features=max_words)\n",
    "\n",
    "# fit vectorizer on training data\n",
    "train_vec = vectorizer.fit_transform(train_clean).toarray()\n",
    "\n",
    "# apply vectorizer to testing and validation sets\n",
    "test_vec = vectorizer.transform(test_clean).toarray()\n",
    "valid_vec = vectorizer.transform(valid_clean).toarray()\n",
    "\n",
    "print train_vec.shape\n",
    "print test_vec.shape\n",
    "print valid_vec.shape"
   ]
  },
  {
   "cell_type": "code",
   "execution_count": null,
   "metadata": {
    "collapsed": true
   },
   "outputs": [],
   "source": []
  }
 ],
 "metadata": {
  "kernelspec": {
   "display_name": "Python [Root]",
   "language": "python",
   "name": "Python [Root]"
  },
  "language_info": {
   "codemirror_mode": {
    "name": "ipython",
    "version": 2
   },
   "file_extension": ".py",
   "mimetype": "text/x-python",
   "name": "python",
   "nbconvert_exporter": "python",
   "pygments_lexer": "ipython2",
   "version": "2.7.12"
  }
 },
 "nbformat": 4,
 "nbformat_minor": 0
}
