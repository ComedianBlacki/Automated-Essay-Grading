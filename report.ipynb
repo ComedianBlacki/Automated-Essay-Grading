{
 "cells": [
  {
   "cell_type": "markdown",
   "metadata": {},
   "source": [
    "**AUTOMATED ESSAY SCORING: CS109A FINAL PROJECT**\n",
    "\n",
    "By Anmol Gupta, Annie Hwang, Paul Lisker, and Kevin Loughlin"
   ]
  },
  {
   "cell_type": "markdown",
   "metadata": {},
   "source": [
    "**THINGS TO CONSIDER**\n",
    "\n",
    "- See README.md for basic guides to what's in the repository\n",
    "- The training essays are scored on different scales.  Take special care that we use the right score for each set.\n",
    "- We should establish how to handle anonymized data (like how they replaced business names with @ORGANIZATION1)"
   ]
  },
  {
   "cell_type": "code",
   "execution_count": 39,
   "metadata": {
    "collapsed": true
   },
   "outputs": [],
   "source": [
    "import matplotlib\n",
    "import matplotlib.pyplot as plt\n",
    "\n",
    "import pandas as pd\n",
    "import numpy as np\n",
    "\n",
    "# stopwords for English\n",
    "from nltk.corpus import stopwords\n",
    "\n",
    "# English 'dictionary'\n",
    "from nltk.corpus import words\n",
    "\n",
    "# Regular expressions might be useful\n",
    "import re\n",
    "\n",
    "# Beautiful soup might be useful\n",
    "from bs4 import BeautifulSoup\n",
    "\n",
    "from sklearn.feature_extraction.text import CountVectorizer\n",
    "%matplotlib inline"
   ]
  },
  {
   "cell_type": "code",
   "execution_count": 40,
   "metadata": {
    "collapsed": false
   },
   "outputs": [
    {
     "name": "stdout",
     "output_type": "stream",
     "text": [
      "   essay_id  essay_set                                              essay  \\\n",
      "0         1          1  Dear local newspaper, I think effects computer...   \n",
      "1         2          1  Dear @CAPS1 @CAPS2, I believe that using compu...   \n",
      "2         3          1  Dear, @CAPS1 @CAPS2 @CAPS3 More and more peopl...   \n",
      "3         4          1  Dear Local Newspaper, @CAPS1 I have found that...   \n",
      "4         5          1  Dear @LOCATION1, I know having computers has a...   \n",
      "\n",
      "   rater1_domain1  rater2_domain1  rater3_domain1  domain1_score  \\\n",
      "0               4               4             NaN              8   \n",
      "1               5               4             NaN              9   \n",
      "2               4               3             NaN              7   \n",
      "3               5               5             NaN             10   \n",
      "4               4               4             NaN              8   \n",
      "\n",
      "   rater1_domain2  rater2_domain2  domain2_score      ...        \\\n",
      "0             NaN             NaN            NaN      ...         \n",
      "1             NaN             NaN            NaN      ...         \n",
      "2             NaN             NaN            NaN      ...         \n",
      "3             NaN             NaN            NaN      ...         \n",
      "4             NaN             NaN            NaN      ...         \n",
      "\n",
      "   rater2_trait3  rater2_trait4  rater2_trait5  rater2_trait6  rater3_trait1  \\\n",
      "0            NaN            NaN            NaN            NaN            NaN   \n",
      "1            NaN            NaN            NaN            NaN            NaN   \n",
      "2            NaN            NaN            NaN            NaN            NaN   \n",
      "3            NaN            NaN            NaN            NaN            NaN   \n",
      "4            NaN            NaN            NaN            NaN            NaN   \n",
      "\n",
      "   rater3_trait2  rater3_trait3  rater3_trait4  rater3_trait5  rater3_trait6  \n",
      "0            NaN            NaN            NaN            NaN            NaN  \n",
      "1            NaN            NaN            NaN            NaN            NaN  \n",
      "2            NaN            NaN            NaN            NaN            NaN  \n",
      "3            NaN            NaN            NaN            NaN            NaN  \n",
      "4            NaN            NaN            NaN            NaN            NaN  \n",
      "\n",
      "[5 rows x 28 columns]\n",
      "\n",
      "*****\n",
      "\n",
      "(12976,)\n"
     ]
    }
   ],
   "source": [
    "# Read in training data\n",
    "train_df = pd.read_csv('data/training_set_rel3.tsv', delimiter='\\t')\n",
    "print train_df.head()\n",
    "\n",
    "print '\\n*****\\n'\n",
    "\n",
    "# Show np extraction\n",
    "train_essays_np = train_df['essay'].values\n",
    "print train_essays_np.shape"
   ]
  },
  {
   "cell_type": "code",
   "execution_count": 41,
   "metadata": {
    "collapsed": false
   },
   "outputs": [
    {
     "name": "stdout",
     "output_type": "stream",
     "text": [
      "\n",
      "*****\n",
      "\n",
      "(4254,)\n"
     ]
    }
   ],
   "source": [
    "# Read in testing data\n",
    "test_df = pd.read_csv('data/test_set.tsv', delimiter='\\t')\n",
    "#print test_df.head()\n",
    "\n",
    "print '\\n*****\\n'\n",
    "\n",
    "# Show np extraction\n",
    "test_essays_np = test_df['essay'].values\n",
    "print test_essays_np.shape"
   ]
  },
  {
   "cell_type": "code",
   "execution_count": 42,
   "metadata": {
    "collapsed": false
   },
   "outputs": [
    {
     "name": "stdout",
     "output_type": "stream",
     "text": [
      "\n",
      "*****\n",
      "\n",
      "(4218,)\n"
     ]
    }
   ],
   "source": [
    "# Read in validation data\n",
    "valid_df = pd.read_csv('data/valid_set.tsv', delimiter='\\t')\n",
    "#print valid_df.head()\n",
    "\n",
    "print '\\n*****\\n'\n",
    "\n",
    "# Show np extraction\n",
    "valid_essays_np = valid_df['essay'].values\n",
    "print valid_essays_np.shape"
   ]
  },
  {
   "cell_type": "code",
   "execution_count": 44,
   "metadata": {
    "collapsed": false
   },
   "outputs": [],
   "source": [
    "# Make english words and stoplist a set for efficiency\n",
    "nltk_words_set = set(words.words())\n",
    "stop_words = set(stopwords.words(\"english\"))\n",
    "\n",
    "# only alphabet characters in text\n",
    "def alpha_only(text):\n",
    "    return re.sub(\"[^a-zA-Z]\", \" \", text)\n",
    "\n",
    "# split text into word iterable\n",
    "def split_by_words(text):\n",
    "    return alpha_only(text).split()\n",
    "\n",
    "# Extracts words from text, alpha characters only and all lowercase\n",
    "# Inspired by function included in Kevin's CS51 final project, adapted from Kaggle's Popcorn Movie Reviews Project\n",
    "# Used in Kevin's assignment 5\n",
    "def clean_essay(text):\n",
    "    # Converts all letters to lower case and splits string into words\n",
    "    words = alpha_only(text).lower().split()\n",
    "    \n",
    "    # TODO If we want to remove stop words, we can before the below\n",
    "    #words = [w for w in words if not w in stop_words]\n",
    "\n",
    "    # TODO If we want to check what is actually a word, we can do the below\n",
    "    # words = [w for w in words if w in nltk_words_set]\n",
    "\n",
    "    # Return words as string separated by space\n",
    "    return (\" \".join( words ))\n",
    "\n",
    "# Gets word count\n",
    "def get_word_count(text):\n",
    "    return len(split_by_words(text))"
   ]
  },
  {
   "cell_type": "code",
   "execution_count": 45,
   "metadata": {
    "collapsed": false
   },
   "outputs": [
    {
     "name": "stdout",
     "output_type": "stream",
     "text": [
      "Cleaning training essays...\n",
      "Cleaning testing essays...\n",
      "Cleaning validation essays...\n",
      "Done.\n",
      "(12976,)\n"
     ]
    }
   ],
   "source": [
    "print \"Cleaning training essays...\"\n",
    "\n",
    "cleaned = []\n",
    "for essay in train_essays_np:\n",
    "    cleaned.append(clean_essay(essay))\n",
    "train_clean = np.array(cleaned)\n",
    "\n",
    "print \"Cleaning testing essays...\"\n",
    "\n",
    "cleaned = []\n",
    "for essay in test_essays_np:\n",
    "    cleaned.append(clean_essay(essay))\n",
    "test_clean = np.array(cleaned)\n",
    "\n",
    "print \"Cleaning validation essays...\"\n",
    "\n",
    "cleaned = []\n",
    "for essay in valid_essays_np:\n",
    "    cleaned.append(clean_essay(essay))\n",
    "valid_clean = np.array(cleaned)\n",
    "\n",
    "print \"Done.\"\n",
    "\n",
    "print train_clean.shape"
   ]
  },
  {
   "cell_type": "code",
   "execution_count": 46,
   "metadata": {
    "collapsed": false
   },
   "outputs": [
    {
     "name": "stdout",
     "output_type": "stream",
     "text": [
      "(12976, 37678)\n",
      "(4254, 37678)\n",
      "(4218, 37678)\n"
     ]
    }
   ],
   "source": [
    "# If we want to limit to the most common words in our vectorizer, set this number\n",
    "# Doing so will speed things up (and potentially increase accuracy)\n",
    "# None indicates no limit\n",
    "max_words = None\n",
    "\n",
    "# turns words into word vector, but note that removes stop words\n",
    "vectorizer = CountVectorizer(stop_words='english', max_features=max_words)\n",
    "\n",
    "# fit vectorizer on training data\n",
    "train_vec = vectorizer.fit_transform(train_clean).toarray()\n",
    "\n",
    "# apply vectorizer to testing and validation sets\n",
    "test_vec = vectorizer.transform(test_clean).toarray()\n",
    "valid_vec = vectorizer.transform(valid_clean).toarray()\n",
    "\n",
    "print train_vec.shape\n",
    "print test_vec.shape\n",
    "print valid_vec.shape"
   ]
  },
  {
   "cell_type": "code",
   "execution_count": 47,
   "metadata": {
    "collapsed": false
   },
   "outputs": [
    {
     "name": "stdout",
     "output_type": "stream",
     "text": [
      "Calculating word counts...\n",
      "Plotting data...\n"
     ]
    },
    {
     "data": {
      "image/png": "[encoded data removed]",
      "text/plain": [
       "<matplotlib.figure.Figure at 0x1271151d0>"
      ]
     },
     "metadata": {},
     "output_type": "display_data"
    }
   ],
   "source": [
    "# This is where the graphing actually occurs\n",
    "\n",
    "# Make a list of training essays by set\n",
    "train_by_set = []\n",
    "for i in xrange(8):\n",
    "    train_by_set.append(train_df[train_df['essay_set'] == i + 1])\n",
    "\n",
    "# I graph for set 1 (index 0)\n",
    "texts = train_by_set[0]['essay'].values\n",
    "\n",
    "# be aware that different essay sets have different scoring systems\n",
    "# be sure to choose correct column\n",
    "scores = list(train_by_set[0]['domain1_score'].values)\n",
    "\n",
    "word_counts = []\n",
    "vocabs = []\n",
    "\n",
    "vectorizer = CountVectorizer()\n",
    "\n",
    "print \"Calculating word counts...\"\n",
    "\n",
    "# calc vocab size and word counts\n",
    "for essay in texts:\n",
    "    vocabs.append(vectorizer2.fit_transform(split_by_words(essay)).toarray().shape[1])\n",
    "    word_counts.append(get_word_count(essay))\n",
    "    \n",
    "    \n",
    "_, ax = plt.subplots(1, 2, figsize=(16, 8))\n",
    "\n",
    "# plot essay set number 1 word count versus score\n",
    "ax[0].set_title('Word Count vs Score, Set 1')\n",
    "ax[0].set_xlabel('Word Count')\n",
    "ax[0].set_ylabel('Score')\n",
    "ax[0].scatter(word_counts, scores)\n",
    "\n",
    "# plot essay set number 1 vocab size versus score\n",
    "ax[1].set_title('Vocab Size vs Score, Set 1')\n",
    "ax[1].set_xlabel('Vocab Size')\n",
    "ax[1].set_ylabel('Score')\n",
    "ax[1].scatter(vocabs, scores)\n",
    "\n",
    "print \"Plotting data...\"\n",
    "\n",
    "plt.show()"
   ]
  },
  {
   "cell_type": "code",
   "execution_count": null,
   "metadata": {
    "collapsed": true
   },
   "outputs": [],
   "source": []
  },
  {
   "cell_type": "code",
   "execution_count": null,
   "metadata": {
    "collapsed": true
   },
   "outputs": [],
   "source": []
  }
 ],
 "metadata": {
  "anaconda-cloud": {},
  "kernelspec": {
   "display_name": "Python [Root]",
   "language": "python",
   "name": "Python [Root]"
  },
  "language_info": {
   "codemirror_mode": {
    "name": "ipython",
    "version": 2
   },
   "file_extension": ".py",
   "mimetype": "text/x-python",
   "name": "python",
   "nbconvert_exporter": "python",
   "pygments_lexer": "ipython2",
   "version": "2.7.12"
  }
 },
 "nbformat": 4,
 "nbformat_minor": 0
}
