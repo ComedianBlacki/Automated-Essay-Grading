{
 "cells": [
  {
   "cell_type": "markdown",
   "metadata": {},
   "source": [
    "**THINGS TO CONSIDER**\n",
    "\n",
    "- The training essays are scored on different scales.  Perhaps the scoring system for our model should be an input, or perhaps we should have different models for different scoring systems.\n",
    "- See README.md for basic guides to what's in the repository"
   ]
  },
  {
   "cell_type": "code",
   "execution_count": 11,
   "metadata": {
    "collapsed": true
   },
   "outputs": [],
   "source": [
    "import matplotlib\n",
    "import matplotlib.pyplot as plt\n",
    "\n",
    "import pandas as pd\n",
    "import numpy as np\n",
    "\n",
    "# stopwords for English\n",
    "from nltk.corpus import stopwords\n",
    "\n",
    "# English 'dictionary'\n",
    "from nltk.corpus import words\n",
    "\n",
    "# Regular expressions might be useful\n",
    "import re\n",
    "\n",
    "# Beautiful soup might be useful\n",
    "from bs4 import BeautifulSoup\n",
    "\n",
    "from sklearn.feature_extraction.text import CountVectorizer"
   ]
  },
  {
   "cell_type": "code",
   "execution_count": 16,
   "metadata": {
    "collapsed": false
   },
   "outputs": [
    {
     "name": "stdout",
     "output_type": "stream",
     "text": [
      "   essay_id  essay_set                                              essay  \\\n",
      "0         1          1  Dear local newspaper, I think effects computer...   \n",
      "1         2          1  Dear @CAPS1 @CAPS2, I believe that using compu...   \n",
      "2         3          1  Dear, @CAPS1 @CAPS2 @CAPS3 More and more peopl...   \n",
      "3         4          1  Dear Local Newspaper, @CAPS1 I have found that...   \n",
      "4         5          1  Dear @LOCATION1, I know having computers has a...   \n",
      "\n",
      "   rater1_domain1  rater2_domain1  rater3_domain1  domain1_score  \\\n",
      "0               4               4             NaN              8   \n",
      "1               5               4             NaN              9   \n",
      "2               4               3             NaN              7   \n",
      "3               5               5             NaN             10   \n",
      "4               4               4             NaN              8   \n",
      "\n",
      "   rater1_domain2  rater2_domain2  domain2_score      ...        \\\n",
      "0             NaN             NaN            NaN      ...         \n",
      "1             NaN             NaN            NaN      ...         \n",
      "2             NaN             NaN            NaN      ...         \n",
      "3             NaN             NaN            NaN      ...         \n",
      "4             NaN             NaN            NaN      ...         \n",
      "\n",
      "   rater2_trait3  rater2_trait4  rater2_trait5  rater2_trait6  rater3_trait1  \\\n",
      "0            NaN            NaN            NaN            NaN            NaN   \n",
      "1            NaN            NaN            NaN            NaN            NaN   \n",
      "2            NaN            NaN            NaN            NaN            NaN   \n",
      "3            NaN            NaN            NaN            NaN            NaN   \n",
      "4            NaN            NaN            NaN            NaN            NaN   \n",
      "\n",
      "   rater3_trait2  rater3_trait3  rater3_trait4  rater3_trait5  rater3_trait6  \n",
      "0            NaN            NaN            NaN            NaN            NaN  \n",
      "1            NaN            NaN            NaN            NaN            NaN  \n",
      "2            NaN            NaN            NaN            NaN            NaN  \n",
      "3            NaN            NaN            NaN            NaN            NaN  \n",
      "4            NaN            NaN            NaN            NaN            NaN  \n",
      "\n",
      "[5 rows x 28 columns]\n",
      "\n",
      "*****\n",
      "\n",
      "[ \"Dear local newspaper, I think effects computers have on people are great learning skills/affects because they give us time to chat with friends/new people, helps us learn about the globe(astronomy) and keeps us out of troble! Thing about! Dont you think so? How would you feel if your teenager is always on the phone with friends! Do you ever time to chat with your friends or buisness partner about things. Well now - there's a new way to chat the computer, theirs plenty of sites on the internet to do so: @ORGANIZATION1, @ORGANIZATION2, @CAPS1, facebook, myspace ect. Just think now while your setting up meeting with your boss on the computer, your teenager is having fun on the phone not rushing to get off cause you want to use it. How did you learn about other countrys/states outside of yours? Well I have by computer/internet, it's a new way to learn about what going on in our time! You might think your child spends a lot of time on the computer, but ask them so question about the economy, sea floor spreading or even about the @DATE1's you'll be surprise at how much he/she knows. Believe it or not the computer is much interesting then in class all day reading out of books. If your child is home on your computer or at a local library, it's better than being out with friends being fresh, or being perpressured to doing something they know isnt right. You might not know where your child is, @CAPS2 forbidde in a hospital bed because of a drive-by. Rather than your child on the computer learning, chatting or just playing games, safe and sound in your home or community place. Now I hope you have reached a point to understand and agree with me, because computers can have great effects on you or child because it gives us time to chat with friends/new people, helps us learn about the globe and believe or not keeps us out of troble. Thank you for listening.\"\n",
      " \"Dear @CAPS1 @CAPS2, I believe that using computers will benefit us in many ways like talking and becoming friends will others through websites like facebook and mysace. Using computers can help us find coordibates, locations, and able ourselfs to millions of information. Also computers will benefit us by helping with jobs as in planning a house plan and typing a @NUM1 page report for one of our jobs in less than writing it. Now lets go into the wonder world of technology. Using a computer will help us in life by talking or making friends on line. Many people have myspace, facebooks, aim, these all benefit us by having conversations with one another. Many people believe computers are bad but how can you make friends if you can never talk to them? I am very fortunate for having a computer that can help with not only school work but my social life and how I make friends. Computers help us with finding our locations, coordibates and millions of information online. If we didn't go on the internet a lot we wouldn't know how to go onto websites that @MONTH1 help us with locations and coordinates like @LOCATION1. Would you rather use a computer or be in @LOCATION3. When your supposed to be vacationing in @LOCATION2. Million of information is found on the internet. You can as almost every question and a computer will have it. Would you rather easily draw up a house plan on the computers or take @NUM1 hours doing one by hand with ugly erazer marks all over it, you are garrenteed that to find a job with a drawing like that. Also when appling for a job many workers must write very long papers like a @NUM3 word essay on why this job fits you the most, and many people I know don't like writing @NUM3 words non-stopp for hours when it could take them I hav an a computer. That is why computers we needed a lot now adays. I hope this essay has impacted your descion on computers because they are great machines to work with. The other day I showed my mom how to use a computer and she said it was the greatest invention sense sliced bread! Now go out and buy a computer to help you chat online with friends, find locations and millions of information on one click of the button and help your self with getting a job with neat, prepared, printed work that your boss will love.\"\n",
      " \"Dear, @CAPS1 @CAPS2 @CAPS3 More and more people use computers, but not everyone agrees that this benefits society. Those who support advances in technology believe that computers have a positive effect on people. Others have different ideas. A great amount in the world today are using computers, some for work and spme for the fun of it. Computers is one of mans greatest accomplishments. Computers are helpful in so many ways, @CAPS4, news, and live streams. Don't get me wrong way to much people spend time on the computer and they should be out interacting with others but who are we to tell them what to do. When I grow up I want to be a author or a journalist and I know for a fact that both of those jobs involve lots of time on time on the computer, one @MONTH1 spend more time then the other but you know exactly what @CAPS5 getting at. So what if some expert think people are spending to much time on the computer and not exercising, enjoying natures and interacting with family and friends. For all the expert knows that its how must people make a living and we don't know why people choose to use the computer for a great amount of time and to be honest it's non of my concern and it shouldn't be the so called experts concern. People interact a thousand times a day on the computers. Computers keep lots of kids of the streets instead of being out and causing trouble. Computers helps the @ORGANIZATION1 locate most wanted criminals. As you can see computers are more useful to society then you think, computers benefit society.\"\n",
      " 'Dear Local Newspaper, @CAPS1 I have found that many experts say that computers do not benifit our society. In some cases this is true but in most cases studdies show that computers can help people. While nothing beats talking in person computers can get really close such examples are webcams or e-mail. @PERCENT1 of students who get good grades refer to reliable websites for reasearch or to help find good books. Also online catalouges or advertisments help the economy of stores worldwide. @CAPS2 people were not allowed to use computers most of the modern would not exist. @PERSON1 said that the best form of modern communication is the computer because of the ability to write, talk, or write back for much cheaper! Almost every single event i go to is planed on a computer by communication such as e-mail \"@CAPS2 a student ever needs homework because lam out sick or needs help studying for a test then contact their teacher through the best form of communication for them always e-mail. Even the post office uses computers to get letters and boxes to people. The president of the post office, @PERSON2 said \"@CAPS3 would be imposible to get mail to our coustmers @CAPS2 @CAPS3 were not for computers telling us where a zip code is or how heavy a box is.\" @CAPS4 that tell people what is happening around the world would not exist @CAPS2 @CAPS3 were not for the moder communication abilities that computer provid us. Because information can be commucated so quick. so can reasearch. When the country of @LOCATION2 took a pole @PERCENT2 of people used computer for any type of reasearch, of those @PERCENT3 were students currently in school and @PERCENT4 of them have good grades. When the same survey was taken in the @LOCATION1 @PERCENT5 of people used computers fore reasons and @PERCENT2 were students who had good grade @CAPS2 @CAPS3 were not posible for me to access documents in the @CAPS5 @CAPS6 online I probably would not have gotten an A+ on my @CAPS7 assignment! Could you amagine @CAPS2 suddenly your Newspaper reporters couldn\\'t use the internet to work on their reports? The articles would probably be @NUM1 after the events occur. Most buissness, including the Newspaper, use the internet to advertise, shop, or read. The association of @ORGANIZATION1 reported that in @PERCENT1 of @ORGANIZATION1 used a website and of them @PERCENT5 were in good positions. The president of @CAPS8 @NUM2 imports said that they use an online catalouge because @CAPS3 is cheaper, but they can also promote that @CAPS3 is to save trees, or for the castomer\\'s convinence. Small @ORGANIZATION1 can make websites to promote them selves and explain their star to potential coustomers. @PERSON3, the owner of @ORGANIZATION2\\'s said that the internet saved her resturant. @CAPS2 @CAPS3 wer not for the internet @NUM3 more people would be jobless in @LOCATION3. In conclusion computer help everyday people and without them most convinences would not exist. They help communicate around the world. Computers help people reaserch subjects for school reports, and they make the current economy get better everyday. In moderation computers are the most useful tool out there.'\n",
      " \"Dear @LOCATION1, I know having computers has a positive effect on people. The computers connect families, contain information which is great for peoples education, and are very conveint. Computors are a step into the future and we should take advantage of it. First off the internet or e-mail will help family members connect. My family, which lives @NUM1 hours away by car, love to talk with me by e-mail. This helps me connect with my family and is just another reason why we should have computors. Another reason that includes family is when the family is just sitting around and are calling everywhere just to find a board game, it would just be easier to go online to find it. This way it would be quick and easy to find that one board game. The last reason why a computer would help a family is if a family wants to get in to any kinds of activities and they need the number they could just go online. On the internet the family could find the numbers, the and some information about it. This way more and more families can do activities together. As one can see the computer is bringing more and more families together. An other reason why the computers are good for society is educations. With information at the tip of your fingers more and more people will want to learn. Now a days people try to find the out, but will all the tools on the computers mae people get the education. Secondly computers are another way to go to collage. If you arn't up to going to school/collage because your sick. You wouldn't have to miss anything because with a click of a button you will have the materials needed for what was missed. Lastly everyone knows that in @LOCATION2 most classrooms can't afford one computer. The children want computors so hard. If they were to get one it would change so much. They would be able to learn so much more than before. The children could lean about different countries far away. As a result computers would improve the way we learn. The last reason why computers are so helpful is convience. Now a say the world is crazy, so if we don't have to go out or talk to someone we won't. The computer will offer the ability to confrence will other people so that there would be communication between work parttners. With the ability to talk with another for work would make us a lighter nation. This is only one of the many reasons computers are very conviente, subssiquently computers are conviente because you could book flights, vacations, rentals, and much more. With a click of a button you should be going to @CAPS1 or a nice vacation.\"]\n"
     ]
    }
   ],
   "source": [
    "train_df = pd.read_csv('data/training_set_rel3.tsv', delimiter='\\t')\n",
    "print train_df.head()\n",
    "\n",
    "print '\\n*****\\n'\n",
    "\n",
    "train_essays_np = train_df['essay'].values\n",
    "print train_essays_np[:5]"
   ]
  },
  {
   "cell_type": "code",
   "execution_count": 17,
   "metadata": {
    "collapsed": false
   },
   "outputs": [
    {
     "name": "stdout",
     "output_type": "stream",
     "text": [
      "   essay_id  essay_set                                              essay  \\\n",
      "0      2383          1  I believe that computers have a positive effec...   \n",
      "1      2384          1  Dear @CAPS1, I know some problems have came up...   \n",
      "2      2385          1  Dear to whom it @MONTH1 concern, Computers are...   \n",
      "3      2386          1  Dear @CAPS1 @CAPS2, @CAPS3 has come to my atte...   \n",
      "4      2387          1  Dear Local newspaper, I think that people have...   \n",
      "\n",
      "   domain1_predictionid  domain2_predictionid  \n",
      "0                  2383                   NaN  \n",
      "1                  2384                   NaN  \n",
      "2                  2385                   NaN  \n",
      "3                  2386                   NaN  \n",
      "4                  2387                   NaN  \n",
      "\n",
      "*****\n",
      "\n",
      "[ \"I believe that computers have a positive effect on people. They help you stay in touch with family in a couple different ways they excercise your mind and hands and help you learn and make things easier. Computer's help you keep in touch with people. Say you live in @LOCATION1 and you miss your @CAPS1. You can just send an e-mail and talk all you want. If you don't just want to limit it to words you can add pictures so they can see how much you've grown or if you are well. Even if you're just e-mailing someone down the block it is just as effective as getting up and walking over there. You can also use a computer to make a scrap book card or slide show to show how much you love the person you give them to. Computers @MONTH1 not excercise you whole body but it excersises you mind and hands. You could play solitaire on the computer and come away @PERCENT1 smarter than before. You can play other games of strategy like checkers and chess while still sitting at home being comfortable. Your hands always play a big role while you're on the computer. They need to move the mouse and press the keys on a keyboard. Your hands learn all the keys from memorization. It's like the computer's teaching handi-coordination and studying habit for the future. Computers make human lives easier. Not only do they help kids turn in a nice neatly printed piece or paper for home work but they also help the average person. Teachers use it to keep peoples grades in order and others use it to write reports for various jobs. The @CAPS2 probably uses one to write a speech or to just keep his day in order. Computers make it easier to learn certain topics like the @LOCATION2 history. You can type something into a searcher site and have ton's of websites for one person with, who knows how much imformation. Instead of flipping through all the pages in a dictionary you can look for an online dictionary, type in the word and you have the definition. Computers have positive effects on people because they help you keep close to your family, they challenge your mind to be greater and excercise your hands and they make life easier for kids and the average person. This is why, I think computers have good effects on society.\"\n",
      " 'Dear @CAPS1, I know some problems have came up where some individuals do not agree with the benefits that computers provide us with. I am writing this to get my voice out, or how computers can only help us. Computers teach us hand eye coordination which is an essential skill for many new jobs is this day and age. Not only do computers teach this hands skill but they allow for us to learn of faraway places without actually going to that place and they allow is to talk and intersit with our friends, family and even! Computers are incredible in that they give us the chance to learn of a place where we can not go. Since the creation at the internet, studies have proven that our country\\'s overall average intelect has increased by over @PERCENT1! @PERSON2 has a remark a this subject.\" I am astranded that such a simple idea has turned out to be the largest virtual library has ever known!\" I could not help but to agree with him. Many people have learned of faraway places, reachable and unnexchable, in amazing detail just by viewing articals that the internet and computers offer. I have to admit that you have to sit down and read @CAPS2 which doesn\\'t benefit you physically but it majorly benefits you mentally in a very minimum amount at time. Hand eye coordination is one of the most underectinated skills that computers provide. Technology is only going to advance, so why not get i over with and adapt to the new ways that things are being done by? Hand eye coordination is an essential skill in the jobs we have @DATE1. Someone who has expirienced hand eye coordination would tell you that the practice and the was with it because they can get papers and projects done faster, and more efficiently. A fast typer can make as much as @MONEY1 an hour when they first set hired! Only computers teach this skill and it is almost imposible to learn this skill from something else. A new advancement in technology allows as to interact with one friends, family, and over forieners! Besides the cheap monthly cost of the internet, most of @CAPS2 services are completely free! Instead of wasting minutes on your exposive cellular phone, you can just chat with your friends and family online for free. @CAPS2 free social services can even connect you with people in different countries, so you can learn about their lifestyle and culture as I did! @PERSON1 says, \"@CAPS2 advancements are remarkable and everybody should take advantage of @CAPS2 services.\" I hope what I\\'ve said has an impact on you. Like I said before technology is only going to advance, so be love to adopt to it. Please take into consideration that computers train essential hand eye coordination, they allow us to pull articals of faraway places from a massive virtual library and they allow us to interact with our friends family, and people from all of life.'\n",
      " \"Dear to whom it @MONTH1 concern, Computers aren't the reason why people don't want to excersise or veiw the nature. Its the people computers are their their to help peopl can knoledge but people take advantage of that. People make their own in life and they can control eather they want to do excersise or not. They, always have the on other objects for what they suposably didn't do. In a couple people can go anywhere and reaseach everything. Poeple who stay at a computer @NUM1 hours a day are making discison. Its not like a computer tell you not to do something people beleive that technology as a person into doing things. Well their wrong. Its the person who is letting technology take control. Because if they wanted to they could possibly stop and go out side for a walk or run. What they don't know is they are the one. So now you understand what im trying to say. People other things over ther own actions.\"\n",
      " 'Dear @CAPS1 @CAPS2, @CAPS3 has come to my attention that some people do not believe in our in technology and their computers. I however believe that computers are amazing things that make life not only easier, but more enjoyable as well. Computers teach hand-eye coordination which is available through sports as well, but much easier for the unathletic through computers. Not only do computer give us skills but they allow us to learn of the people nd places to us. Yet computers are not so along with getting information on far away people and places you can actualy talk to a person from anywhere around the world! In our local comunity only about @NUM1 of the population are at and capable of truly hand -eye coordination through sports. This is where computers are useful. They can teach hand-eye coordination to anyone. This skill is taough by a hand- held controler called a mouse that once moved will also move a person or the computer screen. This is a vere effective techmique that is even useful with special people. Computers give us access to pictures and information on far away people or places. This is a very useful thing, since @CAPS3 allows you, our local paper, accurete news ion both distant and local events. @CAPS3 is also proven that students have a better on of a place if they can see @CAPS3. If by a terrible chance computers were removed from our society, our students would reserve lower scores on world geography quizzes or even tests. By such a reasoning taking away computers taking our knowledge on places. Computers not only help to give us a better understandings on foreighn places, but they also allow us a one on one @CAPS5 with people of such places. Such a things our knowledge. @CAPS3 also allows people contact with family or friends @CAPS3 is very painful to know you will never see somore you care for again but computers lead that pain. Computers also to news, for example if a family member was about to one could just get on the computer and a culture. If one were to a letter saying by the they got there @CAPS3 could be too late. And thus I implore you, our local paper, to support our fight to keep computers. Some people @MONTH1 say that computers internet as with people but @CAPS3 actualy encourage out.People my online through websites suhc as facebook and myspace. These amazing machines give us skills, information, and easy @CAPS5 like nothing else.'\n",
      " \"Dear Local newspaper, I think that people have lately spent too much time on their computers. People who have been doing so are increasing the percentage of obecity. The reason I am writing this to you is because the percentage of obecity is currently increasing, people are spending less time exercising and spending less time interacting with others. First, the percentage of obecity is increasing. The reason is that people just stay indoors, they never feel the need to be fit. This is also risking their lives, all they do is just sit and eat. This could risk the chances of getting deceases. For example, lets say a person spends nearly @NUM1 hrs a day on the computer. This person ate salty foods which risked high cholesterol. While this person was using the computer this person had a heart attack. Second, the people who use the computer are not exercising. These people need to exercise, its good for them, it helps them avoid having to take trips to the hospital, by that I mean not getting heart attacks. It is important to at least exercise for @NUM2 hrs. a day. Do something like take a walk in the park, go hiking, ride a bike, do push ups. There's all kinds of things you could do. For example, there was once a man that all he did was use the computer, he once used to be athletic until his mother gave him a computer. After that he only used the computer, he never exercised nor comunicated with his friends. That was until his friends told him that he was too addicted to that machine. So his friends helped him get back on his feet. Finally, people don't interact with their own friends and family. This is the biggest thing that you should be concerned because with computers people don't interact with themselves and @MONTH1 cause relationships to get ruined. The difference between the average man and the man that uses computers is that the average man actually has a job and has to support his family, while the man that uses computers all he actually does is play games or use the social networks to communicate with strangers. In conclusion, you should be concerned about people's use of computers. It increases obecity. It decreases the interaction with others and you'll spend less time exercising and more time on the computer. Please do the whole world a favor and just go out to play or exercise.\"]\n"
     ]
    }
   ],
   "source": [
    "test_df = pd.read_csv('data/test_set.tsv', delimiter='\\t')\n",
    "print test_df.head()\n",
    "\n",
    "print '\\n*****\\n'\n",
    "\n",
    "test_essays_np = test_df['essay'].values\n",
    "print test_essays_np[:5]"
   ]
  },
  {
   "cell_type": "code",
   "execution_count": 18,
   "metadata": {
    "collapsed": false
   },
   "outputs": [
    {
     "name": "stdout",
     "output_type": "stream",
     "text": [
      "   essay_id  essay_set                                              essay  \\\n",
      "0      1788          1  Dear @ORGANIZATION1, @CAPS1 more and more peop...   \n",
      "1      1789          1  Dear @LOCATION1 Time @CAPS1 me tell you what I...   \n",
      "2      1790          1  Dear Local newspaper, Have you been spending a...   \n",
      "3      1791          1  Dear Readers, @CAPS1 you imagine how life woul...   \n",
      "4      1792          1  Dear newspaper, I strongly believe that comput...   \n",
      "\n",
      "   domain1_predictionid  domain2_predictionid  \n",
      "0                  1788                   NaN  \n",
      "1                  1789                   NaN  \n",
      "2                  1790                   NaN  \n",
      "3                  1791                   NaN  \n",
      "4                  1792                   NaN  \n",
      "\n",
      "*****\n",
      "\n",
      "[ 'Dear @ORGANIZATION1, @CAPS1 more and more people start to use computers, goes more and more into the dark aged. While computer @MONTH1 be helpful in some cases, they are also making people excercize less, most @CAPS1 many people are nature, and more people are becoming awkward. So are computer advancement recently worth society becoming less interactive? The answer is no. With more thing to do on the computer people arent getting enough exercize to keep up a healthy regimens. Kids would rather waste time on the computer than go out play. @NUM1 years ago, when most that many people had computers, you could see people outside playing and having fun with each other, But now, when you look outside, no one is on the local playground having fun and exercising, they are on the internet. \"@PERCENT1 of kids, who spend most of their time on the computer, are over-weight and unhealthy, compared to the @PERCENT2 of kids who are outside playing and a healthy weight.\" says @PERSON1, @CAPS2. So really the problem to over-weight, its lack of exercize from the computers. Not only are people getting less exercize, they are also not experiencing the healty of nature. With less people going going outside, of exercize, waste nature healty because no-one gets to use it, and harm social skills and family relationships. So please, get off the computer and enjoy life.'\n",
      " \"Dear @LOCATION1 Time @CAPS1 me tell you what I think of computers there is nothing wrong with people being on computers. I say this because us as kids really do need computers for projects and school work. Also because what if your parents want to move or get a better job but have no car they can use they're computer. Computers actually help the human mind. If you get bored then get on the computer sit back and relax while I explain. In addition I'm not saying that you can use your computer for everything say for an example your teacher gives you an assignment and you can't find it in your book your going to use the computer. If you need pictures for a project but your not an very good artist then you can use your computer. so at the end computer's aren't so bad after all. For an example my mom doesn't have a car or know how to drive. So when she needs to look for a job and no one is there to take her she get's on the internet and find one. Also when it was time for her to move she got on the computer and found a @LOCATION1 house. So like I said computer's are not as bad as people think. When kid's get bored and it's snowing outside and nothing on t.v. Then they can go on the computer, it's not like they don't have educational sites. They have first in math and math for fun. So don't think it's just websites to chat with your friends. In conclusion don't make it seem as through the computer isn't useful because it is. The computer even teach's me things every now and then. So I would say computers @CAPS2! So don't be such a grumpy person because they probably help you sometimes.\"\n",
      " \"Dear Local newspaper, Have you been spending a good portion of your time on computers? Do you think it is effecting you in anyway? Well in this writing piece I am going to tell you how I believe the computers effect you aand everyone else. My first piece of information for the way computers effect people is if they are on the omputer playing games, emailing or listening to music, that is more time you miss spending with thier family or going outside. If they miss time to spend with thier family then you could slowly start drifting apart from them, especially if they don't live near you. One day when that person passed away and you think back you are going to wish you weren't on the compuer three times they were over, you are going to wish you were down there spending time with them. If you miss going outside that is a whole new thing you are missing the sunshine, the snow or whatever kind of temparature there is outside and either way being outside in the fresh air is healthy and so much better than being inside on a computer. The second way computer could effect someones lifen is if you are in a chat room talking to someone and you don't know who it is you have no way to know for sure who you are talking to. It could be a creepy adult or a murder and you'd be thinking that it is a cod kid that wants to be your friends and you could end up letting some information slip. He could ask you to meet him somewhere and they could endup taking you forever and during that time you were talking to him you could of been doing something else than talk to some stranger on the computer. My last thing I believe that bthe computer has an effect on people is that they won't be us active. they'd be lounging around all day on the computer instead of playing a sport or running around outside. Who cares if you colud get hand eye coordination you can play @NUM1 @CAPS1-box with your family and still it's because you get hand eye coordination and youre spending time with family. Even better than that you could be palying outside with your family it will keep you extremely more active than anything and you will be able to spend time with your family. Now that I told you aall of those reasons the computers effect you should know now that spending time off the computer is much more healthier than sitting on the computer all day.\"\n",
      " 'Dear Readers, @CAPS1 you imagine how life would be if we all stop sitting on our behinds on the computer all day but enjoying mother nature? The issue is that experts are concerned that people are spending too much time on their computer and less time excercising, enjoying nature, and interacting with family and friends. I think we should give the computers a break so that we @CAPS1 get enough excercise, so we @CAPS1 enjoy nature, and so that we @CAPS1 keep our knowledge. I think that we should give the computer a break so that we @CAPS1 start excercising. Who wouldn\\'t want to excersize to stay in shape. I remember when me and my mom used to exercise once a day so that we @CAPS1 stay in good shape. Surely if you go on the computer everyday instead of exercising you will start to gain weight. Who would want to gain weight? Why should a person not exercise and stay healthy? Another reason why we should give computers a break is so that people @CAPS1 enjoy nature. For example, they @CAPS1 go to the park or even ride their bikes. In @ORGANIZATION1 school @PERCENT1 say that they love to ride their bike instead of going on the computer. Why not go outside and smell the fresh air, or even go swimming at the beach? Another reason we should give the computer a break is so that we @CAPS1 keep their knowledge. For example if you stay on the computer and play games you will lose your focus on work. Why should your parents be worried because their kids grades are slowly decreasing and decreasing every second. Why should smart kids get low grades over playing games on their computers? So now I say \"I wont waste my knowledge ever again\". It\\'s now or never! Should kids give the computer a break or not. I think they should because they wont get enough exercise, so that the kids @CAPS1 enjoy mother nature. Also so that they @CAPS1 keep their knowledge. This is why kids should to focusing on computers. So why not go waisting your time and knowledge on computers now!'\n",
      " 'Dear newspaper, I strongly believe that computers have a positive effect on people. Computers help with education believe it or not. They let people keep in touch with each other no matter where they are. Also computers help people with so many useful things. Education is a very important thing in life. And computers are a big part of education. In my school we do many things on the computer like typing papers, research projects, and sometimes even rests. Computers dont only help with education in school but at our own homes too. When your surfing the web you might come across articles of people and places and that helps your education. The computer is also a good place to learn about history, you can find out about the worlds history or maybe even your own family history. Computers can teach people a lot. Computers can also be helpful for peoples health if you use them the right way. Instead of looking up silly stuff look up what foods you can eat that are good for you and what you can do to stay healthy. You can look up recipes that are healthy and delicous. On the computer you can get tons of other peoples opinions on ways to stay healthy which is better than just getting our opinion from somebody you know. Computers can also help you excercise. You can find out different types of excercises and stretches. You can even watch excercising videos and follow along with them. Its possible that you find a video or type of excercise that works good for you. Instead of searching things on the internet that are not useful look up something important like your health. Computers are useful in thousands of different ways. One way is keeping in touch with people. I keep in touch with my friends by using facebook, myspace, and aim. A lot of other people use these sites to. These sites also help me keep in touch with my family. I talk to cousins that live a city down from mine and even my family members that live across the country and in another continent. Computers are also not just for the important things in life there to have fun too. There are millions of websites with games, jokes, and funny videos. There are so many uses for a computer. In conclusion computers have a very positive effect on people. They help children and adults with there education and learning. The internet can also help people live healthy so they can have a happy life. There are so many different uses of a computer, you can do almost anything on it. Computers can defenitely have a positive effect on people.']\n"
     ]
    }
   ],
   "source": [
    "valid_df = pd.read_csv('data/valid_set.tsv', delimiter='\\t')\n",
    "print valid_df.head()\n",
    "\n",
    "print '\\n*****\\n'\n",
    "\n",
    "valid_essays_np = valid_df['essay'].values\n",
    "print valid_essays_np[:5]"
   ]
  },
  {
   "cell_type": "code",
   "execution_count": null,
   "metadata": {
    "collapsed": true
   },
   "outputs": [],
   "source": []
  }
 ],
 "metadata": {
  "kernelspec": {
   "display_name": "Python [Root]",
   "language": "python",
   "name": "Python [Root]"
  },
  "language_info": {
   "codemirror_mode": {
    "name": "ipython",
    "version": 2
   },
   "file_extension": ".py",
   "mimetype": "text/x-python",
   "name": "python",
   "nbconvert_exporter": "python",
   "pygments_lexer": "ipython2",
   "version": "2.7.12"
  }
 },
 "nbformat": 4,
 "nbformat_minor": 0
}
